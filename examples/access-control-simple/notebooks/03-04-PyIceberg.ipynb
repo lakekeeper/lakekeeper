{
 "cells": [
  {
   "cell_type": "code",
   "execution_count": null,
   "id": "700adddd-3ba0-4c0b-8f00-016b450a79d3",
   "metadata": {},
   "outputs": [],
   "source": [
    "!pip install -q pyiceberg"
   ]
  },
  {
   "cell_type": "code",
   "execution_count": null,
   "id": "a6d0a63a-a898-41ce-a68f-932fd4d5383f",
   "metadata": {},
   "outputs": [],
   "source": [
    "from pyiceberg.catalog.rest import RestCatalog\n",
    "import logging\n",
    "\n",
    "import pandas as pd\n",
    "import pyarrow.parquet as pq\n",
    "import pyarrow as pa\n",
    "\n",
    "CATALOG_URL = \"http://server:8181/catalog\"\n",
    "DEMO_WAREHOUSE = \"demo\"\n",
    "\n",
    "CLIENT_ID = \"spark\"\n",
    "CLIENT_SECRET = \"2OR3eRvYfSZzzZ16MlPd95jhLnOaLM52\"\n",
    "\n",
    "catalog = RestCatalog(\n",
    "    name=\"demo\",\n",
    "    warehouse=\"demo\",\n",
    "    uri=\"http://server:8181/catalog/\",\n",
    "    credential=f\"{CLIENT_ID}:{CLIENT_SECRET}\",\n",
    "    **{\"oauth2-server-uri\": \"http://keycloak:8080/realms/iceberg/protocol/openid-connect/token\", \"scope\": \"lakekeeper\"},\n",
    ")\n"
   ]
  },
  {
   "cell_type": "code",
   "execution_count": null,
   "id": "2516367e-c01e-4e07-9c85-be3090919044",
   "metadata": {},
   "outputs": [],
   "source": [
    "# Create a new namespace if it doesn't already exist\n",
    "test_namespace = (\"pyiceberg_namespace\",)\n",
    "if test_namespace not in catalog.list_namespaces():\n",
    "    catalog.create_namespace(test_namespace)"
   ]
  },
  {
   "cell_type": "code",
   "execution_count": null,
   "id": "f3bf09e7-bff0-4f8e-ac16-c32d29db7fd2",
   "metadata": {},
   "outputs": [],
   "source": [
    "# Write data\n",
    "test_table = (\"pyiceberg_namespace\", \"my_table\")\n",
    "df = pd.DataFrame(\n",
    "    {\n",
    "        \"id\": [1, 2, 3],\n",
    "        \"data\": [\"a\", \"b\", \"c\"],\n",
    "    }\n",
    ")\n",
    "pa_df = pa.Table.from_pandas(df)\n",
    "\n",
    "if test_table in catalog.list_tables(namespace=test_namespace):\n",
    "    catalog.drop_table(test_table)\n",
    "\n",
    "table = catalog.create_table(\n",
    "    test_table,\n",
    "    schema=pa_df.schema,\n",
    ")\n",
    "\n",
    "table.append(pa_df)"
   ]
  },
  {
   "cell_type": "code",
   "execution_count": null,
   "id": "cd38e025-c6e2-4274-a06c-2aaf7847c5c4",
   "metadata": {},
   "outputs": [],
   "source": [
    "# Read data\n",
    "table = catalog.load_table(test_table)\n",
    "table.scan().to_pandas()"
   ]
  },
  {
   "cell_type": "code",
   "execution_count": null,
   "id": "60ce7b61-6bc7-4065-ac7f-095ee03721f2",
   "metadata": {},
   "outputs": [],
   "source": []
  }
 ],
 "metadata": {
  "kernelspec": {
   "display_name": "Python 3 (ipykernel)",
   "language": "python",
   "name": "python3"
  },
  "language_info": {
   "codemirror_mode": {
    "name": "ipython",
    "version": 3
   },
   "file_extension": ".py",
   "mimetype": "text/x-python",
   "name": "python",
   "nbconvert_exporter": "python",
   "pygments_lexer": "ipython3",
   "version": "3.12.9"
  }
 },
 "nbformat": 4,
 "nbformat_minor": 5
}
