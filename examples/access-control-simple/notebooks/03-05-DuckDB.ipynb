{
 "cells": [
  {
   "cell_type": "code",
   "execution_count": null,
   "metadata": {},
   "outputs": [],
   "source": [
    "!pip install duckdb==1.3.0 --upgrade"
   ]
  },
  {
   "cell_type": "code",
   "execution_count": null,
   "metadata": {},
   "outputs": [],
   "source": [
    "# This CATALOG_URL works for the \"docker compose\" testing and development environment\n",
    "# Change 'lakekeeper' if you are not running on \"docker compose\" (f. ex. 'localhost' if Lakekeeper is running locally).\n",
    "CATALOG_URL = \"http://lakekeeper:8181/catalog\"\n",
    "WAREHOUSE = \"demo\"\n",
    "\n",
    "CLIENT_ID = \"duckdb\"\n",
    "CLIENT_SECRET = \"r2dHUlb7XrkSRcvrRqG5XZwQfnUS5NlL\"\n",
    "KEYCLOAK_TOKEN_ENDPOINT = \"http://keycloak:8080/realms/iceberg/protocol/openid-connect/token\""
   ]
  },
  {
   "cell_type": "code",
   "execution_count": null,
   "metadata": {},
   "outputs": [],
   "source": [
    "import duckdb"
   ]
  },
  {
   "cell_type": "markdown",
   "metadata": {},
   "source": [
    "# Prepare Catalog"
   ]
  },
  {
   "cell_type": "code",
   "execution_count": null,
   "metadata": {},
   "outputs": [],
   "source": [
    "duckdb.sql(\"INSTALL ICEBERG;\");\n",
    "duckdb.sql(\"UPDATE EXTENSIONS;\");\n",
    "duckdb.sql(\"LOAD ICEBERG;\");"
   ]
  },
  {
   "cell_type": "code",
   "execution_count": null,
   "metadata": {},
   "outputs": [],
   "source": [
    "duckdb.sql(f\"\"\" CREATE SECRET lakekeeper_secret (\n",
    "    TYPE ICEBERG,\n",
    "    CLIENT_ID '{CLIENT_ID}',\n",
    "    CLIENT_SECRET '{CLIENT_SECRET}',\n",
    "    OAUTH2_SCOPE 'lakekeeper',\n",
    "    OAUTH2_SERVER_URI '{KEYCLOAK_TOKEN_ENDPOINT}'\n",
    ")\n",
    "\"\"\")"
   ]
  },
  {
   "cell_type": "code",
   "execution_count": null,
   "metadata": {},
   "outputs": [],
   "source": [
    "duckdb.sql(f\"\"\"attach '{WAREHOUSE}' as my_datalake (\n",
    "\ttype ICEBERG,\n",
    "\tENDPOINT '{CATALOG_URL}',\n",
    "\tSECRET lakekeeper_secret\n",
    ")\n",
    "\"\"\");"
   ]
  },
  {
   "cell_type": "markdown",
   "metadata": {},
   "source": [
    "## Read Tables\n",
    "Make sure to run the `Pyiceberg.ipynb` Notebook first!"
   ]
  },
  {
   "cell_type": "code",
   "execution_count": null,
   "metadata": {},
   "outputs": [],
   "source": [
    "duckdb.sql(\"SELECT * FROM my_datalake.pyiceberg_namespace.my_table\").show()"
   ]
  },
  {
   "cell_type": "code",
   "execution_count": null,
   "metadata": {},
   "outputs": [],
   "source": []
  }
 ],
 "metadata": {
  "kernelspec": {
   "display_name": "Python 3 (ipykernel)",
   "language": "python",
   "name": "python3"
  },
  "language_info": {
   "codemirror_mode": {
    "name": "ipython",
    "version": 3
   },
   "file_extension": ".py",
   "mimetype": "text/x-python",
   "name": "python",
   "nbconvert_exporter": "python",
   "pygments_lexer": "ipython3",
   "version": "3.11.10"
  }
 },
 "nbformat": 4,
 "nbformat_minor": 4
}
